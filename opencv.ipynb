{
 "cells": [
  {
   "cell_type": "code",
   "execution_count": 3,
   "id": "2d4ff77a",
   "metadata": {},
   "outputs": [
    {
     "name": "stdout",
     "output_type": "stream",
     "text": [
      "Requirement already satisfied: opencv-python in c:\\users\\lenovo\\anaconda3\\lib\\site-packages (4.7.0.68)\n",
      "Requirement already satisfied: numpy>=1.17.3 in c:\\users\\lenovo\\anaconda3\\lib\\site-packages (from opencv-python) (1.21.5)\n"
     ]
    }
   ],
   "source": [
    "!pip install opencv-python"
   ]
  },
  {
   "cell_type": "code",
   "execution_count": null,
   "id": "f19cbedc",
   "metadata": {},
   "outputs": [],
   "source": [
    "import cv2\n",
    "img1=cv2.imread(r\"C:\\Users\\lenovo\\Downloads\\index9.jpg\")\n",
    "img1=cv2.resize(img1,(1280,700))\n",
    "print(img1)\n",
    "cv2.imshow(\"original\",img1)\n",
    "cv2.waitKey()\n",
    "cv2.destroyAllWindows()"
   ]
  },
  {
   "cell_type": "code",
   "execution_count": null,
   "id": "bedf7ee6",
   "metadata": {},
   "outputs": [
    {
     "name": "stdout",
     "output_type": "stream",
     "text": [
      "[[113 113 113 ...  98  98  98]\n",
      " [113 113 113 ...  98  98  98]\n",
      " [113 113 113 ...  98  98  98]\n",
      " ...\n",
      " [ 92  92  92 ...  67  67  67]\n",
      " [ 91  91  91 ...  72  72  72]\n",
      " [ 73  73  73 ...  57  57  57]]\n"
     ]
    }
   ],
   "source": [
    "import cv2\n",
    "img2=cv2.imread(r\"C:\\Users\\lenovo\\Downloads\\index9.jpg\",0)\n",
    "img2=cv2.resize(img2,(1280,700))\n",
    "print(img2)\n",
    "cv2.imshow(\"original\",img2)\n",
    "cv2.waitKey()\n",
    "cv2.destroyAllWindows()"
   ]
  },
  {
   "cell_type": "code",
   "execution_count": null,
   "id": "96126132",
   "metadata": {},
   "outputs": [
    {
     "name": "stdout",
     "output_type": "stream",
     "text": [
      "Image in original value==\n",
      " [[[ 86 122 105]\n",
      "  [ 86 122 105]\n",
      "  [ 86 122 105]\n",
      "  ...\n",
      "  [ 75 114  76]\n",
      "  [ 75 114  76]\n",
      "  [ 75 114  76]]\n",
      "\n",
      " [[ 86 122 105]\n",
      "  [ 86 122 105]\n",
      "  [ 86 122 105]\n",
      "  ...\n",
      "  [ 75 114  76]\n",
      "  [ 75 114  76]\n",
      "  [ 75 114  76]]\n",
      "\n",
      " [[ 86 122 105]\n",
      "  [ 86 122 105]\n",
      "  [ 86 122 105]\n",
      "  ...\n",
      "  [ 75 114  76]\n",
      "  [ 75 114  76]\n",
      "  [ 75 114  76]]\n",
      "\n",
      " ...\n",
      "\n",
      " [[ 79 103  75]\n",
      "  [ 79 103  75]\n",
      "  [ 79 103  75]\n",
      "  ...\n",
      "  [ 65  76  50]\n",
      "  [ 65  76  50]\n",
      "  [ 65  76  50]]\n",
      "\n",
      " [[ 78 101  73]\n",
      "  [ 78 101  73]\n",
      "  [ 78 101  73]\n",
      "  ...\n",
      "  [ 70  81  55]\n",
      "  [ 70  81  55]\n",
      "  [ 70  81  55]]\n",
      "\n",
      " [[ 61  84  56]\n",
      "  [ 61  84  56]\n",
      "  [ 61  84  56]\n",
      "  ...\n",
      "  [ 55  66  40]\n",
      "  [ 55  66  40]\n",
      "  [ 55  66  40]]]\n"
     ]
    }
   ],
   "source": [
    "import cv2\n",
    "img3=cv2.imread(r\"C:\\Users\\lenovo\\Downloads\\index9.jpg\",-1)\n",
    "img3=cv2.resize(img3,(1280,700))\n",
    "cv2.imshow(\"Unchanged Image\",img3)\n",
    "print(\"Image in original value==\\n\",img3)\n",
    "cv2.waitKey(0)\n",
    "cv2.destroyAllWindows()"
   ]
  },
  {
   "cell_type": "code",
   "execution_count": 2,
   "id": "da8abbff",
   "metadata": {},
   "outputs": [
    {
     "ename": "error",
     "evalue": "OpenCV(4.7.0) D:\\a\\opencv-python\\opencv-python\\opencv\\modules\\highgui\\src\\window_w32.cpp:2576: error: (-27:Null pointer) NULL window: 'Color Picker' in function 'cvGetTrackbarPos'\n",
     "output_type": "error",
     "traceback": [
      "\u001b[1;31m---------------------------------------------------------------------------\u001b[0m",
      "\u001b[1;31merror\u001b[0m                                     Traceback (most recent call last)",
      "\u001b[1;32m~\\AppData\\Local\\Temp\\ipykernel_19604\\220356928.py\u001b[0m in \u001b[0;36m<module>\u001b[1;34m\u001b[0m\n\u001b[0;32m     25\u001b[0m \u001b[1;33m\u001b[0m\u001b[0m\n\u001b[0;32m     26\u001b[0m     \u001b[1;31m#set current positions of four bars\u001b[0m\u001b[1;33m\u001b[0m\u001b[1;33m\u001b[0m\u001b[0m\n\u001b[1;32m---> 27\u001b[1;33m     \u001b[0ms\u001b[0m \u001b[1;33m=\u001b[0m \u001b[0mcv2\u001b[0m\u001b[1;33m.\u001b[0m\u001b[0mgetTrackbarPos\u001b[0m\u001b[1;33m(\u001b[0m\u001b[0mswitch\u001b[0m\u001b[1;33m,\u001b[0m\u001b[1;34m\"Color Picker\"\u001b[0m\u001b[1;33m)\u001b[0m \u001b[1;31m#switch\u001b[0m\u001b[1;33m\u001b[0m\u001b[1;33m\u001b[0m\u001b[0m\n\u001b[0m\u001b[0;32m     28\u001b[0m     \u001b[0mr\u001b[0m \u001b[1;33m=\u001b[0m \u001b[0mcv2\u001b[0m\u001b[1;33m.\u001b[0m\u001b[0mgetTrackbarPos\u001b[0m\u001b[1;33m(\u001b[0m\u001b[1;34m\"R\"\u001b[0m\u001b[1;33m,\u001b[0m\u001b[1;34m\"Color Picker\"\u001b[0m\u001b[1;33m)\u001b[0m\u001b[1;33m\u001b[0m\u001b[1;33m\u001b[0m\u001b[0m\n\u001b[0;32m     29\u001b[0m     \u001b[0mg\u001b[0m \u001b[1;33m=\u001b[0m \u001b[0mcv2\u001b[0m\u001b[1;33m.\u001b[0m\u001b[0mgetTrackbarPos\u001b[0m\u001b[1;33m(\u001b[0m\u001b[1;34m\"G\"\u001b[0m\u001b[1;33m,\u001b[0m\u001b[1;34m\"Color Picker\"\u001b[0m\u001b[1;33m)\u001b[0m\u001b[1;33m\u001b[0m\u001b[1;33m\u001b[0m\u001b[0m\n",
      "\u001b[1;31merror\u001b[0m: OpenCV(4.7.0) D:\\a\\opencv-python\\opencv-python\\opencv\\modules\\highgui\\src\\window_w32.cpp:2576: error: (-27:Null pointer) NULL window: 'Color Picker' in function 'cvGetTrackbarPos'\n"
     ]
    }
   ],
   "source": [
    "import cv2\n",
    "import numpy as np\n",
    "\n",
    "def cross(x):\n",
    "    pass\n",
    "#create a black imgae\n",
    "img = np.zeros((300,512,3),np.uint8) #empty image\n",
    "cv2.namedWindow(\"Color Picker\")\n",
    "\n",
    "#Creating switch for on and of the trackbars\n",
    "switch = '0 : OFF \\n1 : ON'\n",
    "cv2.createTrackbar(switch, 'Color Picker',0,1,cross)\n",
    "\n",
    "#Creating TrackBars For Adjusting Colors\n",
    "cv2.createTrackbar(\"R\",\"Color Picker\",0,255,cross)\n",
    "cv2.createTrackbar(\"G\",\"Color Picker\",0,255,cross)\n",
    "cv2.createTrackbar(\"B\",\"Color Picker\",0,255,cross)\n",
    "\n",
    "#Now creating logic to handle trackbars\n",
    "while True:\n",
    "    cv2.imshow(\"Color Picker\",img)\n",
    "    k = cv2.waitKey(1) & 0xFF\n",
    "    if k==27: #for exit\n",
    "        break\n",
    "    \n",
    "    #set current positions of four bars\n",
    "    s = cv2.getTrackbarPos(switch,\"Color Picker\") #switch\n",
    "    r = cv2.getTrackbarPos(\"R\",\"Color Picker\")\n",
    "    g = cv2.getTrackbarPos(\"G\",\"Color Picker\")\n",
    "    b = cv2.getTrackbarPos(\"B\",\"Color Picker\")\n",
    "    \n",
    "    if s==0:\n",
    "        img[:] = 0\n",
    "    else:\n",
    "        img[:] = [r,g,b] #here openCV support BGR\n",
    "cv2.destroyAllWindows()"
   ]
  },
  {
   "cell_type": "code",
   "execution_count": null,
   "id": "f54a71da",
   "metadata": {},
   "outputs": [],
   "source": [
    "path=input()"
   ]
  }
 ],
 "metadata": {
  "kernelspec": {
   "display_name": "Python 3 (ipykernel)",
   "language": "python",
   "name": "python3"
  },
  "language_info": {
   "codemirror_mode": {
    "name": "ipython",
    "version": 3
   },
   "file_extension": ".py",
   "mimetype": "text/x-python",
   "name": "python",
   "nbconvert_exporter": "python",
   "pygments_lexer": "ipython3",
   "version": "3.9.12"
  }
 },
 "nbformat": 4,
 "nbformat_minor": 5
}
